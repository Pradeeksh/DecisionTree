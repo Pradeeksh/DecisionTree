{
  "nbformat": 4,
  "nbformat_minor": 0,
  "metadata": {
    "colab": {
      "provenance": []
    },
    "kernelspec": {
      "name": "python3",
      "display_name": "Python 3"
    },
    "language_info": {
      "name": "python"
    }
  },
  "cells": [
    {
      "cell_type": "code",
      "execution_count": 1,
      "metadata": {
        "id": "0D3KSycnPTb7"
      },
      "outputs": [],
      "source": [
        "import pandas as pd\n",
        "from sklearn.model_selection import train_test_split\n",
        "from sklearn.tree import DecisionTreeRegressor\n",
        "from sklearn.metrics import mean_squared_error, r2_score\n",
        "import numpy as np"
      ]
    },
    {
      "cell_type": "code",
      "source": [
        "# Load the data\n",
        "data = pd.read_csv('/content/Bank_Stock_Price_10Y.csv')"
      ],
      "metadata": {
        "id": "NfwNzrBsQopO"
      },
      "execution_count": 2,
      "outputs": []
    },
    {
      "cell_type": "code",
      "source": [
        "# Convert the 'Date' column to Unix timestamps\n",
        "data['Date'] = pd.to_datetime(data['Date']).astype(int)/10**9"
      ],
      "metadata": {
        "id": "ZEbEbC_YQpVm"
      },
      "execution_count": 3,
      "outputs": []
    },
    {
      "cell_type": "code",
      "source": [
        "# Split the data into features (X) and target (y)\n",
        "X = data.drop(['Close'], axis=1)\n",
        "y = data['Close']"
      ],
      "metadata": {
        "id": "o46H7xOQQsyq"
      },
      "execution_count": 4,
      "outputs": []
    },
    {
      "cell_type": "code",
      "source": [
        "# Define the number of models to train and the number of rows to select for each model\n",
        "num_models = 10\n",
        "num_rows_per_model = 50"
      ],
      "metadata": {
        "id": "5PxAuy8YRBiN"
      },
      "execution_count": 5,
      "outputs": []
    },
    {
      "cell_type": "code",
      "source": [
        "#Initialize lists to store the model parameters, accuracy, and evaluation metrics\n",
        "model_params = []\n",
        "model_accuracies = []\n",
        "model_metrics = []"
      ],
      "metadata": {
        "id": "A9LEC9vkRD-s"
      },
      "execution_count": 6,
      "outputs": []
    },
    {
      "cell_type": "code",
      "source": [
        "# Train the models\n",
        "for i in range(num_models):\n",
        "    # Select a random subset of rows from the data with replacement\n",
        "    random_rows = np.random.choice(len(X), num_rows_per_model, replace=True)\n",
        "    X_train, X_test, y_train, y_test = train_test_split(X.iloc[random_rows], y.iloc[random_rows], test_size=0.2, random_state=i)"
      ],
      "metadata": {
        "id": "_aocL3V1RG5X"
      },
      "execution_count": 9,
      "outputs": []
    },
    {
      "cell_type": "code",
      "source": [
        "# Train the models\n",
        "for i in range(num_models):\n",
        "    # Select a random subset of rows from the data with replacement\n",
        "    random_rows = np.random.choice(len(X), num_rows_per_model, replace=True)\n",
        "    X_train, X_test, y_train, y_test = train_test_split(X.iloc[random_rows], y.iloc[random_rows], test_size=0.2, random_state=i)\n",
        "\n",
        "    # Train the decision tree model\n",
        "    model = DecisionTreeRegressor(random_state=i)\n",
        "    model.fit(X_train, y_train)\n",
        "\n",
        "    # Make predictions on the test set\n",
        "    y_pred = model.predict(X_test)\n",
        "\n",
        "    # Calculate the accuracy and evaluation metrics\n",
        "    accuracy = r2_score(y_test, y_pred)\n",
        "    mse = mean_squared_error(y_test, y_pred)\n",
        "\n",
        "    # Save the model parameters, accuracy, and evaluation metrics\n",
        "    model_params.append(model.get_params())\n",
        "    model_accuracies.append(accuracy)\n",
        "    model_metrics.append({'MSE': mse})\n",
        "\n",
        "    # Print the output of the current decision tree model\n",
        "    print(f'Model {i+1}:')\n",
        "    print(f'Accuracy: {accuracy}')\n",
        "    print(f'MSE: {mse}')\n",
        "    print('-----------------------')"
      ],
      "metadata": {
        "colab": {
          "base_uri": "https://localhost:8080/"
        },
        "id": "eY2zXlHORLlw",
        "outputId": "4ded425c-e264-45ff-8507-6371b73d85f8"
      },
      "execution_count": 13,
      "outputs": [
        {
          "output_type": "stream",
          "name": "stdout",
          "text": [
            "Model 1:\n",
            "Accuracy: 0.9943163979031716\n",
            "MSE: 29072.5\n",
            "-----------------------\n",
            "Model 2:\n",
            "Accuracy: 0.9862561523352368\n",
            "MSE: 87500.0\n",
            "-----------------------\n",
            "Model 3:\n",
            "Accuracy: 0.9982858327659337\n",
            "MSE: 11547.5\n",
            "-----------------------\n",
            "Model 4:\n",
            "Accuracy: 0.9941011532943715\n",
            "MSE: 20587.5\n",
            "-----------------------\n",
            "Model 5:\n",
            "Accuracy: 0.9880610329825971\n",
            "MSE: 71157.5\n",
            "-----------------------\n",
            "Model 6:\n",
            "Accuracy: 0.9905438498953578\n",
            "MSE: 38307.5\n",
            "-----------------------\n",
            "Model 7:\n",
            "Accuracy: 0.9857181480872617\n",
            "MSE: 39420.0\n",
            "-----------------------\n",
            "Model 8:\n",
            "Accuracy: 0.9826268648237247\n",
            "MSE: 41590.0\n",
            "-----------------------\n",
            "Model 9:\n",
            "Accuracy: 0.985611628450691\n",
            "MSE: 77420.0\n",
            "-----------------------\n",
            "Model 10:\n",
            "Accuracy: 0.9978442316704653\n",
            "MSE: 14002.5\n",
            "-----------------------\n"
          ]
        }
      ]
    },
    {
      "cell_type": "code",
      "source": [],
      "metadata": {
        "id": "ZHMrQMVpROM4"
      },
      "execution_count": null,
      "outputs": []
    }
  ]
}